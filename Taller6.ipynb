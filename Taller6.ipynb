{
  "nbformat": 4,
  "nbformat_minor": 0,
  "metadata": {
    "colab": {
      "provenance": [],
      "authorship_tag": "ABX9TyPKMozH1d6UfOpmlmGBZe5y",
      "include_colab_link": true
    },
    "kernelspec": {
      "name": "python3",
      "display_name": "Python 3"
    },
    "language_info": {
      "name": "python"
    }
  },
  "cells": [
    {
      "cell_type": "markdown",
      "metadata": {
        "id": "view-in-github",
        "colab_type": "text"
      },
      "source": [
        "<a href=\"https://colab.research.google.com/github/jacero94/CursoPythonCafam/blob/main/Taller6.ipynb\" target=\"_parent\"><img src=\"https://colab.research.google.com/assets/colab-badge.svg\" alt=\"Open In Colab\"/></a>"
      ]
    },
    {
      "cell_type": "markdown",
      "source": [
        "**EJERCICIOS**\n",
        "Ejercicio 1:\n",
        "\n",
        "Suma de Números Pares (Bucle for)\n",
        "\n",
        "Descripción: Escribe un programa que sume todos los números pares del 1 al 100 e imprima el resultado.\n",
        "\n",
        "Instrucciones:\n",
        "\n",
        "Utiliza un bucle for para recorrer los números del 1 al 100. Suma solo aquellos números que sean pares. Imprime la suma total.\n",
        "\n"
      ],
      "metadata": {
        "id": "yefrrNnggaLi"
      }
    },
    {
      "cell_type": "code",
      "source": [
        "contador = 0\n",
        "for num in range(101):\n",
        "  if num % 2 == 0:\n",
        "\n",
        "   contador += num\n",
        "\n",
        "print(contador)"
      ],
      "metadata": {
        "colab": {
          "base_uri": "https://localhost:8080/"
        },
        "id": "2dG-HMmZgecR",
        "outputId": "633827d0-1239-4358-d0fb-53c49c1b0250"
      },
      "execution_count": 36,
      "outputs": [
        {
          "output_type": "stream",
          "name": "stdout",
          "text": [
            "2550\n"
          ]
        }
      ]
    },
    {
      "cell_type": "markdown",
      "source": [
        "Ejercicio 2: Adivina el Número (Bucle while)\n",
        "\n",
        "Descripción:\n",
        "\n",
        "Escribe un programa que permita al usuario adivinar un número secreto entre 1 y 10. El programa debe seguir pidiendo al usuario que adivine hasta que acierte.\n",
        "\n",
        "Instrucciones:\n",
        "\n",
        "Define un número secreto.\n",
        "\n",
        "Utiliza un bucle while para seguir solicitando adivinanzas al usuario hasta que acierte.\n",
        "\n",
        "Si el usuario adivina el número, imprime un mensaje de felicitación y termina el programa."
      ],
      "metadata": {
        "id": "3QkeS27zizUH"
      }
    },
    {
      "cell_type": "code",
      "source": [
        "numero_secreto= 5\n",
        "intentos = None\n",
        "while intentos != numero_secreto:\n",
        " intentos = int(input('Ingrese el numero: '))\n",
        " if intentos ==numero_secreto:\n",
        "  print('Eres un crack')\n",
        "  break\n",
        " else:\n",
        "   print('Fallaste nerd')\n",
        "\n"
      ],
      "metadata": {
        "colab": {
          "base_uri": "https://localhost:8080/"
        },
        "id": "HH88fbHMi9mx",
        "outputId": "11022cc4-2271-43d8-ba8c-46023ffdbe98"
      },
      "execution_count": 40,
      "outputs": [
        {
          "output_type": "stream",
          "name": "stdout",
          "text": [
            "Ingrese el numero: 1\n",
            "Fallaste nerd\n",
            "Ingrese el numero: 2\n",
            "Fallaste nerd\n",
            "Ingrese el numero: 3\n",
            "Fallaste nerd\n",
            "Ingrese el numero: 4\n",
            "Fallaste nerd\n",
            "Ingrese el numero: 5\n",
            "Eres un crack\n"
          ]
        }
      ]
    },
    {
      "cell_type": "markdown",
      "source": [
        "Ejercicio 3: Tabla de Multiplicar (Bucle for y while)\n",
        "\n",
        "Descripción:\n",
        "\n",
        "Escribe un programa que genere la tabla de multiplicar de un número ingresado por el usuario. El programa debe continuar pidiendo un número hasta que el usuario ingrese 0.\n",
        "\n",
        "Instrucciones:\n",
        "\n",
        "Utiliza un bucle while para pedir un número al usuario.\n",
        "\n",
        "Si el número es diferente de 0, usa un bucle for para imprimir la tabla de multiplicar de ese número.\n",
        "\n",
        "Si el usuario ingresa 0, termina el programa."
      ],
      "metadata": {
        "id": "aNkmVu46r9Xx"
      }
    },
    {
      "cell_type": "code",
      "source": [
        "contador = 0\n",
        "intentos = None\n",
        "while intentos != contador:\n",
        " intentos = int(input('Ingrese el numero: '))\n",
        " if intentos == contador:\n",
        "  break\n",
        " else:\n",
        "  for num in range(11):\n",
        "  #if num % 2 == 0:\n",
        "   print(intentos * num)\n",
        "\n",
        "\n"
      ],
      "metadata": {
        "colab": {
          "base_uri": "https://localhost:8080/"
        },
        "id": "uCNEoyeJr7-u",
        "outputId": "0e3ec148-5d16-4dab-e0fd-d7c7f7c6bc67"
      },
      "execution_count": 58,
      "outputs": [
        {
          "name": "stdout",
          "output_type": "stream",
          "text": [
            "Ingrese el numero: 1\n",
            "0\n",
            "1\n",
            "2\n",
            "3\n",
            "4\n",
            "5\n",
            "6\n",
            "7\n",
            "8\n",
            "9\n",
            "10\n",
            "Ingrese el numero: 0\n"
          ]
        }
      ]
    },
    {
      "cell_type": "markdown",
      "source": [
        "Ejercicio 4:\n",
        "\n",
        "Contador de Vocales en una Frase (Bucle for)\n",
        "\n",
        "Descripción:\n",
        "\n",
        "Escribe un programa que cuente el número de vocales en una frase ingresada por el usuario.\n",
        "\n",
        "Instrucciones:\n",
        "\n",
        "Pide al usuario que ingrese una frase.\n",
        "\n",
        "Utiliza un bucle for para recorrer cada carácter de la frase.\n",
        "\n",
        "Cuenta cuántas veces aparecen las vocales (a, e, i, o, u) y muestra el\n",
        "\n",
        "resultado."
      ],
      "metadata": {
        "id": "y5CJlBpUtT8e"
      }
    },
    {
      "cell_type": "code",
      "source": [
        "frase = input (\"Ingrese una frase: \")\n",
        "vocales = \"AEIOUaeiou\"\n",
        "contador = 0\n",
        "for letra in frase:\n",
        "  if letra in vocales:\n",
        "     contador += 1\n",
        "print(contador)"
      ],
      "metadata": {
        "colab": {
          "base_uri": "https://localhost:8080/"
        },
        "id": "tUWk4KGytVJM",
        "outputId": "895283f1-cd08-4792-ca92-cbb0df15f94b"
      },
      "execution_count": 49,
      "outputs": [
        {
          "output_type": "stream",
          "name": "stdout",
          "text": [
            "Ingrese una frase: hola\n",
            "2\n"
          ]
        }
      ]
    }
  ]
}